{
  "nbformat": 4,
  "nbformat_minor": 0,
  "metadata": {
    "colab": {
      "provenance": []
    },
    "kernelspec": {
      "name": "python3",
      "display_name": "Python 3"
    },
    "language_info": {
      "name": "python"
    }
  },
  "cells": [
    {
      "cell_type": "code",
      "execution_count": null,
      "metadata": {
        "colab": {
          "base_uri": "https://localhost:8080/"
        },
        "id": "VcKwrEHiSnRe",
        "outputId": "8dddbae8-9fa3-490a-c500-89a985bf7576"
      },
      "outputs": [
        {
          "output_type": "stream",
          "name": "stdout",
          "text": [
            "Prediction before training: 0.0\n",
            "Prediction after training: 9.999\n",
            "w = 2.000\n"
          ]
        }
      ],
      "source": [
        "import numpy as np\n",
        "\n",
        "#f = w*x + 0 -> w = 2 (expected)\n",
        "\n",
        "x = np.array([1,2,3,4],dtype=np.float32)\n",
        "y = np.array([2,4,6,8],dtype=np.float32)\n",
        "\n",
        "w = 0.0\n",
        "\n",
        "def frd(x):\n",
        "  return x*w\n",
        "\n",
        "print(f\"Prediction before training: {frd(5)}\")\n",
        "\n",
        "def loss(y,y_pred):\n",
        "  return ((y_pred-y)**2).mean()\n",
        "\n",
        "def gradient(x,y,y_pred):\n",
        "  return np.dot(2*x,y_pred-y).mean()\n",
        "\n",
        "l_rt = 0.01\n",
        "iters = 10\n",
        "\n",
        "for i in range(iters):\n",
        "  y_pred = frd(x)\n",
        "  l = loss(y,y_pred)\n",
        "  dw = gradient(x,y,y_pred)\n",
        "  w -= l_rt * dw\n",
        "\n",
        "print(f\"Prediction after training: {frd(5):.3f}\")\n",
        "\n",
        "print(f\"w = {w:.3f}\")\n"
      ]
    },
    {
      "cell_type": "code",
      "source": [
        "import torch.nn as nn\n",
        "import torch\n",
        "\n",
        "x = torch.tensor([[1], [2], [3], [4]], dtype=torch.float32) #tensor[4][1]\n",
        "y = torch.tensor([[2], [4], [6], [8]], dtype=torch.float32)\n",
        "\n",
        "class LinReg(nn.Module):\n",
        "  def __init__(self,_in_features,out_features):\n",
        "    super(LinReg,self).__init__()\n",
        "    self.lin = nn.Linear(_in_features,out_features)\n",
        "  def forward(self,x):\n",
        "    return self.lin(x)\n",
        "\n",
        "model = LinReg(1,1)\n",
        "\n",
        "X_tst = torch.tensor([5],dtype=torch.float32)\n",
        "\n",
        "print(f\"Prediction before training: {model(X_tst).item():.3f}\")\n",
        "\n",
        "l_rt = 0.05\n",
        "iters = 1000\n",
        "\n",
        "loss = nn.MSELoss()\n",
        "optimizer = torch.optim.SGD(model.parameters(),lr=l_rt)\n",
        "\n",
        "for i in range(iters):\n",
        "  y_pred = model(x)\n",
        "  l = loss(y,y_pred)\n",
        "  l.backward()\n",
        "  optimizer.step()\n",
        "  optimizer.zero_grad()\n",
        "\n",
        "print(f\"Prediction after training: {model(X_tst).item():.3f}\")\n"
      ],
      "metadata": {
        "colab": {
          "base_uri": "https://localhost:8080/"
        },
        "id": "I7UJdn2yzSHU",
        "outputId": "9ac6387b-55df-40c5-c74f-eb43d4f19b5f"
      },
      "execution_count": null,
      "outputs": [
        {
          "output_type": "stream",
          "name": "stdout",
          "text": [
            "Prediction before training: -4.407\n",
            "Prediction after training: 10.000\n"
          ]
        }
      ]
    },
    {
      "cell_type": "code",
      "source": [
        "import torch.nn as nn\n",
        "import torch\n",
        "import numpy as np\n",
        "import sklearn.datasets as datasets\n",
        "import matplotlib.pyplot as plt\n",
        "\n",
        "x_rand,y_rand = datasets.make_regression(n_samples=100,n_features=1,noise=20,random_state=1)\n",
        "\n",
        "lrt = 0.01\n",
        "iters = 100\n",
        "\n",
        "x = torch.from_numpy(x_rand.astype(np.float32))\n",
        "y = torch.from_numpy(y_rand.astype(np.float32))\n",
        "print(y.shape)\n",
        "y = y.view(y.shape[0],1) # 100, -> 100,1\n",
        "print(y.shape)\n",
        "\n",
        "model = nn.Linear(1,1)\n",
        "loss = nn.MSELoss()\n",
        "optimizer = torch.optim.SGD(model.parameters(),lr=lrt)\n",
        "\n",
        "for e in range(iters):\n",
        "  y_pred = model(x)\n",
        "  l = loss(y_pred,y)\n",
        "  l.backward()\n",
        "  optimizer.step()\n",
        "  optimizer.zero_grad()\n",
        "\n",
        "#ten[1][1]\n",
        "tst = torch.tensor([1],dtype=torch.float32)\n",
        "\n",
        "print(f\"Pred = {model(tst).item()}\")\n",
        "\n",
        "m_pred = model(x).detach().numpy()\n",
        "\n",
        "plt.plot(x_rand,y_rand,\"ro\")\n",
        "plt.plot(x_rand,m_pred,\"b\")\n",
        "plt.show()"
      ],
      "metadata": {
        "colab": {
          "base_uri": "https://localhost:8080/",
          "height": 482
        },
        "id": "-8tZuYy--Y86",
        "outputId": "aa357b80-3560-4c8b-efbf-26198bf8789c"
      },
      "execution_count": null,
      "outputs": [
        {
          "output_type": "stream",
          "name": "stdout",
          "text": [
            "torch.Size([100])\n",
            "torch.Size([100, 1])\n",
            "Pred = 70.63877868652344\n"
          ]
        },
        {
          "output_type": "display_data",
          "data": {
            "text/plain": [
              "<Figure size 640x480 with 1 Axes>"
            ],
            "image/png": "[encoded data removed]"
          },
          "metadata": {}
        }
      ]
    },
    {
      "cell_type": "code",
      "source": [
        "import torch\n",
        "import torch.nn as nn\n",
        "import numpy as np\n",
        "import sklearn.datasets as datasets\n",
        "import matplotlib.pyplot as plt\n",
        "from sklearn.model_selection import train_test_split\n",
        "from sklearn.preprocessing import StandardScaler\n",
        "\n",
        "#\n",
        "bc = datasets.load_breast_cancer()\n",
        "x,y = bc.data,bc.target\n",
        "\n",
        "n_samp,n_feat = x.shape\n",
        "\n",
        "x_train,x_test,y_train,y_test = train_test_split(x,y,test_size=0.2,random_state=1234)\n",
        "\n",
        "sc = StandardScaler()\n",
        "x_train = sc.fit_transform(x_train)\n",
        "x_test = sc.transform(x_test)\n",
        "\n",
        "x_train = torch.from_numpy(x_train.astype(np.float32))\n",
        "x_test = torch.from_numpy(x_test.astype(np.float32))\n",
        "y_train = torch.from_numpy(y_train.astype(np.float32))\n",
        "y_test = torch.from_numpy(y_test.astype(np.float32))\n",
        "\n",
        "y_train = y_train.view(y_train.shape[0],1)\n",
        "y_test = y_test.view(y_test.shape[0],1)\n",
        "\n",
        "class LogReg(nn.Module):\n",
        "  def __init__(self,_in_features):\n",
        "    super(LogReg,self).__init__()\n",
        "    self.lin = nn.Linear(_in_features,1)\n",
        "\n",
        "  def forward(self,x):\n",
        "    y_pred = torch.sigmoid(self.lin(x))\n",
        "    return y_pred\n",
        "\n",
        "iter = 100\n",
        "lrt = 0.01\n",
        "model = LogReg(n_feat)\n",
        "loss = nn.BCELoss()\n",
        "optimiser = torch.optim.SGD(model.parameters(),lr=lrt)\n",
        "\n",
        "for i in range(iter):\n",
        "  y_pred = model(x_train)\n",
        "  l = loss(y_pred,y_train)\n",
        "  l.backward()\n",
        "  optimiser.step()\n",
        "  optimiser.zero_grad()\n",
        "\n",
        "with torch.no_grad():\n",
        "  y_pred = model(x_test)\n",
        "  y_pred_cls = y_pred.round()\n",
        "  acc = y_pred_cls.eq(y_test).sum() / float(y_test.shape[0])\n",
        "  print(f\"Accuracy = {acc*100:.4f}%\")"
      ],
      "metadata": {
        "colab": {
          "base_uri": "https://localhost:8080/"
        },
        "id": "atIG_wk7rTQg",
        "outputId": "e91226e0-0e71-4b95-f1b6-4fc5d65d0b24"
      },
      "execution_count": null,
      "outputs": [
        {
          "output_type": "stream",
          "name": "stdout",
          "text": [
            "Accuracy = 92.1053%\n"
          ]
        }
      ]
    }
  ]
}